{
 "cells": [
  {
   "cell_type": "code",
   "execution_count": 1,
   "metadata": {},
   "outputs": [],
   "source": [
    "import carshare"
   ]
  },
  {
   "cell_type": "code",
   "execution_count": 2,
   "metadata": {},
   "outputs": [
    {
     "name": "stdout",
     "output_type": "stream",
     "text": [
      "A2: A2 -> E1 -> B1 -> destination\n",
      "B2: B2 -> C1 -> A1 -> D1 -> F1 -> destination\n",
      "C2: C2 -> G1 -> destination\n",
      "Time bound: 1835\n"
     ]
    }
   ],
   "source": [
    "carshare.main(\n",
    "    passenger_name_addr=[\n",
    "        ('A1', '8775 Costa Verde Blvd, San Diego, CA'),\n",
    "        ('B1', '8800 Lombard Pl, San Diego, CA'),\n",
    "        ('C1', '9600 Campus Point Dr, La Jolla, CA'),\n",
    "        ('D1', '7655 Palmilla Dr, San Diego, CA'),\n",
    "        ('E1', '8636 Villa La Jolla Dr, La Jolla, CA'),\n",
    "        ('F1', '7867 Camino Aguila, San Diego, CA'),\n",
    "        ('G1', '10374 Wateridge Cir, San Diego, CA'),\n",
    "    ],\n",
    "    driver_name_addr=[\n",
    "        ('A2', '9500 Gilman Dr, La Jolla, CA'),\n",
    "        ('B2', '9515 Genesee Ave, San Diego, CA'),\n",
    "        ('C2', '1415 Orion Dr, San Diego, CA')\n",
    "    ],\n",
    "    destination_='3435 Del Mar Heights Rd, San Diego, CA',\n",
    "    n_seats=5,\n",
    "    API_KEY='TheRainInSpainStaysMainlyInThePlain'\n",
    ")"
   ]
  },
  {
   "cell_type": "code",
   "execution_count": null,
   "metadata": {},
   "outputs": [],
   "source": []
  }
 ],
 "metadata": {
  "kernelspec": {
   "display_name": "Python 3",
   "language": "python",
   "name": "python3"
  },
  "language_info": {
   "codemirror_mode": {
    "name": "ipython",
    "version": 3
   },
   "file_extension": ".py",
   "mimetype": "text/x-python",
   "name": "python",
   "nbconvert_exporter": "python",
   "pygments_lexer": "ipython3",
   "version": "3.11.5"
  }
 },
 "nbformat": 4,
 "nbformat_minor": 2
}
